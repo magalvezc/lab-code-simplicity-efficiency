{
 "cells": [
  {
   "cell_type": "code",
   "execution_count": null,
   "metadata": {},
   "outputs": [
    {
     "name": "stdout",
     "output_type": "stream",
     "text": [
      "Welcome to this calculator!\n",
      "It can add and subtract whole numbers from zero to five\n"
     ]
    }
   ],
   "source": [
    "print('Welcome to this calculator!')\n",
    "print('It can add and subtract whole numbers from zero to five')\n",
    "a = input('Please choose your first number (zero to five): ')\n",
    "b = input('What do you want to do? plus or minus: ')\n",
    "c = input('Please choose your second number (zero to five): ')\n",
    "\n",
    "#print(a,b,c)\n",
    "calc = {\n",
    "        'zero': 0,\n",
    "        'one': 1, \n",
    "        'two': 2, \n",
    "        'three': 3, \n",
    "        'four': 4, \n",
    "        'five': 5\n",
    "       }\n",
    "if b ==\"plus\":\n",
    "    print(calc[a] + calc[c])\n",
    "if b ==\"minus\":\n",
    "    print(calc[a] - calc[c])\n",
    "#calculadora[k] llama directo al valor. No debe generase un for y recorrer todo el diccionario"
   ]
  }
 ],
 "metadata": {
  "kernelspec": {
   "display_name": "Python 3",
   "language": "python",
   "name": "python3"
  },
  "language_info": {
   "codemirror_mode": {
    "name": "ipython",
    "version": 3
   },
   "file_extension": ".py",
   "mimetype": "text/x-python",
   "name": "python",
   "nbconvert_exporter": "python",
   "pygments_lexer": "ipython3",
   "version": "3.7.3"
  }
 },
 "nbformat": 4,
 "nbformat_minor": 2
}
