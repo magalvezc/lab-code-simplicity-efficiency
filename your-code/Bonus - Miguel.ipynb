{
 "cells": [
  {
   "cell_type": "code",
   "execution_count": 2,
   "metadata": {},
   "outputs": [
    {
     "name": "stdout",
     "output_type": "stream",
     "text": [
      "How many steps in the stair?8\n",
      "Ways to climb to top: 34\n",
      "Total calculations performed: 54\n"
     ]
    }
   ],
   "source": [
    "class ClimbStairs:\n",
    "    def __init__(self, total_steps=10): \n",
    "        self.total_steps = total_steps\n",
    "        self.calculation_count = 0\n",
    "    def calc_solutions(self, i):\n",
    "        if i > self.total_steps:\n",
    "            return 0\n",
    "        if i == self.total_steps:\n",
    "            return 1\n",
    "        self.calculation_count += 1\n",
    "        return(self.calc_solutions(i+1) + self.calc_solutions(i+2))\n",
    "    def get_calculation_count(self):\n",
    "        return self.calculation_count\n",
    "    def solve(self):\n",
    "        return self.calc_solutions(0)\n",
    "\n",
    "total_steps = input(\"How many steps in the stair?\")\n",
    "new_challenge = ClimbStairs(int(total_steps))\n",
    "print('Ways to climb to top: ' + str(new_challenge.solve()))\n",
    "print('Total calculations performed: ' + str(new_challenge.get_calculation_count()))\n"
   ]
  },
  {
   "cell_type": "code",
   "execution_count": null,
   "metadata": {},
   "outputs": [],
   "source": []
  },
  {
   "cell_type": "code",
   "execution_count": null,
   "metadata": {},
   "outputs": [],
   "source": []
  }
 ],
 "metadata": {
  "kernelspec": {
   "display_name": "Python 3",
   "language": "python",
   "name": "python3"
  },
  "language_info": {
   "codemirror_mode": {
    "name": "ipython",
    "version": 3
   },
   "file_extension": ".py",
   "mimetype": "text/x-python",
   "name": "python",
   "nbconvert_exporter": "python",
   "pygments_lexer": "ipython3",
   "version": "3.7.3"
  }
 },
 "nbformat": 4,
 "nbformat_minor": 2
}
